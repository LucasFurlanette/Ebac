{
 "nbformat": 4,
 "nbformat_minor": 0,
 "metadata": {
  "colab": {
   "name": "modulo_22_exercicio.ipynb",
   "provenance": [],
   "collapsed_sections": []
  },
  "kernelspec": {
   "name": "python3",
   "display_name": "Python 3"
  }
 },
 "cells": [
  {
   "cell_type": "markdown",
   "metadata": {
    "id": "KJqp9AANOCtf"
   },
   "source": [
    "<img src=\"https://raw.githubusercontent.com/andre-marcos-perez/ebac-course-utils/main/media/logo/newebac_logo_black_half.png\" alt=\"ebac-logo\">\n",
    "\n",
    "---\n",
    "\n",
    "# **Módulo** | Análise de Dados: Fundamentos de Estatística\n",
    "Caderno de **Exercícios**<br> \n",
    "Professor [André Perez](https://www.linkedin.com/in/andremarcosperez/)\n",
    "\n",
    "---"
   ]
  },
  {
   "cell_type": "markdown",
   "metadata": {
    "id": "d9jDtUbDOE1-"
   },
   "source": [
    "# **Tópicos**\n",
    "\n",
    "<ol type=\"1\">\n",
    "  <li>Média e Variância;</li>\n",
    "  <li>Ordem e Posição;</li>\n",
    "  <li>Correlação.</li>\n",
    "</ol>"
   ]
  },
  {
   "cell_type": "markdown",
   "metadata": {
    "id": "SmoHgt-lwkpD"
   },
   "source": [
    "---"
   ]
  },
  {
   "cell_type": "markdown",
   "metadata": {
    "id": "GABI6OW8OfQ2"
   },
   "source": [
    "# **Exercícios**"
   ]
  },
  {
   "cell_type": "markdown",
   "metadata": {
    "id": "kzRDceCvkFj2"
   },
   "source": [
    "## 1\\. Tráfego de São Paulo"
   ]
  },
  {
   "cell_type": "markdown",
   "metadata": {
    "id": "WCQi-s0Hpd5V"
   },
   "source": [
    "Neste exercício, vamos continuar a analisar os dados de mobilidade urbana da cidade de São Paulo. A base de dados está neste [link](https://raw.githubusercontent.com/andre-marcos-perez/ebac-course-utils/develop/dataset/traffic.csv) e é uma copia do dado original, presente neste [link](https://archive.ics.uci.edu/ml/datasets/Behavior+of+the+urban+traffic+of+the+city+of+Sao+Paulo+in+Brazil). A base de dados contem a quantidade de acidentes ocorridos na cidade entre 14/12/09 e 18/12/09, das 07:00h ás 20:00h, agregados em intervalos de 30 minutos."
   ]
  },
  {
   "cell_type": "code",
   "metadata": {
    "id": "lblH8kIXzPZZ"
   },
   "source": [
    "!wget -q \"https://raw.githubusercontent.com/andre-marcos-perez/ebac-course-utils/develop/dataset/traffic.csv\" -O traffic.csv"
   ],
   "execution_count": null,
   "outputs": []
  },
  {
   "cell_type": "code",
   "metadata": {
    "id": "cuuqGTo_ffKI"
   },
   "source": [
    "import pandas as pd"
   ],
   "execution_count": 1,
   "outputs": []
  },
  {
   "cell_type": "code",
   "metadata": {
    "id": "VR3UdrrQgJ4K"
   },
   "source": [
    "df = pd.read_csv('dados/traffic.csv', sep=';')"
   ],
   "execution_count": 2,
   "outputs": []
  },
  {
   "cell_type": "code",
   "metadata": {
    "id": "znk9Z9TLgTGP"
   },
   "source": [
    "df.head()"
   ],
   "execution_count": 3,
   "outputs": [
    {
     "data": {
      "text/plain": "   hour  bus_stoped  broken_truck  vehicle_excess  accident_victim  \\\n0     1           0             0               0                0   \n1     2           0             0               0                0   \n2     3           0             0               0                0   \n3     4           0             0               0                0   \n4     5           0             0               0                0   \n\n   running_over  fire_vehicles  occurrence_freight  \\\n0             0              0                   0   \n1             0              0                   0   \n2             0              0                   0   \n3             0              0                   0   \n4             0              0                   0   \n\n   incident__dangerous_freight  lack_electricity  fire  flooding  \\\n0                            0                 0     0         0   \n1                            0                 0     0         0   \n2                            0                 0     0         0   \n3                            0                 0     0         0   \n4                            0                 0     0         0   \n\n   manifestations  defect_trolleybuses  tree_road  semaphore_off  \\\n0               0                    0          0              0   \n1               0                    0          0              0   \n2               0                    0          0              0   \n3               0                    0          0              0   \n4               0                    0          0              0   \n\n   intermittent_emaphore slowness_traffic_%  \n0                      0                4,1  \n1                      0                6,6  \n2                      0                8,7  \n3                      0                9,2  \n4                      0               11,1  ",
      "text/html": "<div>\n<style scoped>\n    .dataframe tbody tr th:only-of-type {\n        vertical-align: middle;\n    }\n\n    .dataframe tbody tr th {\n        vertical-align: top;\n    }\n\n    .dataframe thead th {\n        text-align: right;\n    }\n</style>\n<table border=\"1\" class=\"dataframe\">\n  <thead>\n    <tr style=\"text-align: right;\">\n      <th></th>\n      <th>hour</th>\n      <th>bus_stoped</th>\n      <th>broken_truck</th>\n      <th>vehicle_excess</th>\n      <th>accident_victim</th>\n      <th>running_over</th>\n      <th>fire_vehicles</th>\n      <th>occurrence_freight</th>\n      <th>incident__dangerous_freight</th>\n      <th>lack_electricity</th>\n      <th>fire</th>\n      <th>flooding</th>\n      <th>manifestations</th>\n      <th>defect_trolleybuses</th>\n      <th>tree_road</th>\n      <th>semaphore_off</th>\n      <th>intermittent_emaphore</th>\n      <th>slowness_traffic_%</th>\n    </tr>\n  </thead>\n  <tbody>\n    <tr>\n      <th>0</th>\n      <td>1</td>\n      <td>0</td>\n      <td>0</td>\n      <td>0</td>\n      <td>0</td>\n      <td>0</td>\n      <td>0</td>\n      <td>0</td>\n      <td>0</td>\n      <td>0</td>\n      <td>0</td>\n      <td>0</td>\n      <td>0</td>\n      <td>0</td>\n      <td>0</td>\n      <td>0</td>\n      <td>0</td>\n      <td>4,1</td>\n    </tr>\n    <tr>\n      <th>1</th>\n      <td>2</td>\n      <td>0</td>\n      <td>0</td>\n      <td>0</td>\n      <td>0</td>\n      <td>0</td>\n      <td>0</td>\n      <td>0</td>\n      <td>0</td>\n      <td>0</td>\n      <td>0</td>\n      <td>0</td>\n      <td>0</td>\n      <td>0</td>\n      <td>0</td>\n      <td>0</td>\n      <td>0</td>\n      <td>6,6</td>\n    </tr>\n    <tr>\n      <th>2</th>\n      <td>3</td>\n      <td>0</td>\n      <td>0</td>\n      <td>0</td>\n      <td>0</td>\n      <td>0</td>\n      <td>0</td>\n      <td>0</td>\n      <td>0</td>\n      <td>0</td>\n      <td>0</td>\n      <td>0</td>\n      <td>0</td>\n      <td>0</td>\n      <td>0</td>\n      <td>0</td>\n      <td>0</td>\n      <td>8,7</td>\n    </tr>\n    <tr>\n      <th>3</th>\n      <td>4</td>\n      <td>0</td>\n      <td>0</td>\n      <td>0</td>\n      <td>0</td>\n      <td>0</td>\n      <td>0</td>\n      <td>0</td>\n      <td>0</td>\n      <td>0</td>\n      <td>0</td>\n      <td>0</td>\n      <td>0</td>\n      <td>0</td>\n      <td>0</td>\n      <td>0</td>\n      <td>0</td>\n      <td>9,2</td>\n    </tr>\n    <tr>\n      <th>4</th>\n      <td>5</td>\n      <td>0</td>\n      <td>0</td>\n      <td>0</td>\n      <td>0</td>\n      <td>0</td>\n      <td>0</td>\n      <td>0</td>\n      <td>0</td>\n      <td>0</td>\n      <td>0</td>\n      <td>0</td>\n      <td>0</td>\n      <td>0</td>\n      <td>0</td>\n      <td>0</td>\n      <td>0</td>\n      <td>11,1</td>\n    </tr>\n  </tbody>\n</table>\n</div>"
     },
     "execution_count": 3,
     "metadata": {},
     "output_type": "execute_result"
    }
   ]
  },
  {
   "cell_type": "markdown",
   "metadata": {
    "id": "eMG4JHaugQbV"
   },
   "source": [
    "- **Exemplo**: (para relembrar)"
   ]
  },
  {
   "cell_type": "markdown",
   "metadata": {
    "id": "WGcei39Pwc9u"
   },
   "source": [
    "O código abaixo extrai a 13ª linha do arquivo que representa a 14ª meia hora do dia 14/12/09, contadas a partir das 07:00h, ou seja, todos os incidentes ocorridos na cidade no dia em questão entre as 13:30h e 14:00h. Vemos, por exemplo, que dois ônibus e dois caminhões ficaram paradados nas ruas da cidade, atrapalhando o tráfego."
   ]
  },
  {
   "cell_type": "code",
   "metadata": {
    "id": "rVUKA_RkiFeg"
   },
   "source": [
    "df.iloc[[13]]"
   ],
   "execution_count": 4,
   "outputs": [
    {
     "data": {
      "text/plain": "    hour  bus_stoped  broken_truck  vehicle_excess  accident_victim  \\\n13    14           2             2               0                1   \n\n    running_over  fire_vehicles  occurrence_freight  \\\n13             0              0                   0   \n\n    incident__dangerous_freight  lack_electricity  fire  flooding  \\\n13                            0                 0     0         0   \n\n    manifestations  defect_trolleybuses  tree_road  semaphore_off  \\\n13               0                    0          0              0   \n\n    intermittent_emaphore slowness_traffic_%  \n13                      0                4,9  ",
      "text/html": "<div>\n<style scoped>\n    .dataframe tbody tr th:only-of-type {\n        vertical-align: middle;\n    }\n\n    .dataframe tbody tr th {\n        vertical-align: top;\n    }\n\n    .dataframe thead th {\n        text-align: right;\n    }\n</style>\n<table border=\"1\" class=\"dataframe\">\n  <thead>\n    <tr style=\"text-align: right;\">\n      <th></th>\n      <th>hour</th>\n      <th>bus_stoped</th>\n      <th>broken_truck</th>\n      <th>vehicle_excess</th>\n      <th>accident_victim</th>\n      <th>running_over</th>\n      <th>fire_vehicles</th>\n      <th>occurrence_freight</th>\n      <th>incident__dangerous_freight</th>\n      <th>lack_electricity</th>\n      <th>fire</th>\n      <th>flooding</th>\n      <th>manifestations</th>\n      <th>defect_trolleybuses</th>\n      <th>tree_road</th>\n      <th>semaphore_off</th>\n      <th>intermittent_emaphore</th>\n      <th>slowness_traffic_%</th>\n    </tr>\n  </thead>\n  <tbody>\n    <tr>\n      <th>13</th>\n      <td>14</td>\n      <td>2</td>\n      <td>2</td>\n      <td>0</td>\n      <td>1</td>\n      <td>0</td>\n      <td>0</td>\n      <td>0</td>\n      <td>0</td>\n      <td>0</td>\n      <td>0</td>\n      <td>0</td>\n      <td>0</td>\n      <td>0</td>\n      <td>0</td>\n      <td>0</td>\n      <td>0</td>\n      <td>4,9</td>\n    </tr>\n  </tbody>\n</table>\n</div>"
     },
     "execution_count": 4,
     "metadata": {},
     "output_type": "execute_result"
    }
   ]
  },
  {
   "cell_type": "markdown",
   "metadata": {
    "id": "HrTLgE0tki6P"
   },
   "source": [
    "### **1.1. Agregação** "
   ]
  },
  {
   "cell_type": "markdown",
   "metadata": {
    "id": "7tIjNOs8q6aZ"
   },
   "source": [
    "Neste primeira atividade, você deve gerar um array NumPy por dia. Para cada array você deve somar todos os incidentes que aconteceram naquela meia hora. Sendo assim, cada array deve ter 27 posições, cada qual com a soma dos incidentes daquela meira hora."
   ]
  },
  {
   "cell_type": "markdown",
   "metadata": {
    "id": "fKzfMXTO280n"
   },
   "source": [
    "**Dica**: Você deve remover a primeira e a última coluna."
   ]
  },
  {
   "cell_type": "markdown",
   "metadata": {
    "id": "KEUTG1OIs0VN"
   },
   "source": [
    "**Dica**: Os arrays devem ter os seguintes valores:\n",
    "\n",
    "```python\n",
    "14: [0, 0, 0, 0, 0, 0, 0, 0, 0, 0, 0, 1, 0, 5, 2, 0, 0, 0, 0, 0, 1, 0, 0, 0, 2, 2, 3]\n",
    "15: [3, 0, 0, 0, 2, 4, 2, 1, 3, 0, 2, 0, 2, 3, 2, 2, 4, 7, 6, 3, 0, 1, 1, 5, 4, 6, 0]\n",
    "16: [1, 1, 2, 4, 4, 5, 3, 2, 4, 2, 1, 1, 3, 6, 2, 0, 2, 8, 4, 6, 4, 1, 2, 7, 15, 4, 0]\n",
    "17: [4, 1, 1, 0, 0, 0, 2, 3, 2, 7, 2, 1, 7, 3, 6, 4, 3, 2, 2, 3, 2, 5, 2, 0, 1, 4, 15]\n",
    "18: [10, 1, 1, 5, 5, 7, 3, 4, 3, 1, 2, 3, 2, 2, 6, 2, 2, 4, 2, 3, 0, 3, 3, 2, 3, 6, 0]\n",
    "```"
   ]
  },
  {
   "cell_type": "code",
   "metadata": {
    "id": "IwTTh4VKkdKN"
   },
   "source": [
    "import numpy as np\n",
    "\n",
    "df2 = df.iloc[:,1: -1]\n",
    "x = np.array(df2)\n",
    "\n",
    "day = 14\n",
    "half = 0\n",
    "incident_by_day = dict()\n",
    "soma = list()\n",
    "\n",
    "for y in x:\n",
    "    try:\n",
    "        soma.append(np.sum(y))\n",
    "        half = half + 1\n",
    "        if half == 27:\n",
    "            incident_by_day[day] = soma\n",
    "            day = day + 1\n",
    "            half = 0\n",
    "            soma = []\n",
    "    except ValueError:\n",
    "        continue\n",
    "\n",
    "for day in incident_by_day:\n",
    "\n",
    "  print(f'{day}: {incident_by_day[day]}')"
   ],
   "execution_count": 141,
   "outputs": [
    {
     "name": "stdout",
     "output_type": "stream",
     "text": [
      "14: [0, 0, 0, 0, 0, 0, 0, 0, 0, 0, 0, 1, 0, 5, 2, 0, 0, 0, 0, 0, 1, 0, 0, 0, 2, 2, 3]\n",
      "15: [3, 0, 0, 0, 2, 4, 2, 1, 3, 0, 2, 0, 2, 3, 2, 2, 4, 7, 6, 3, 0, 1, 1, 5, 4, 6, 0]\n",
      "16: [1, 1, 2, 4, 4, 5, 3, 2, 4, 2, 1, 1, 3, 6, 2, 0, 2, 8, 4, 6, 4, 1, 2, 7, 15, 4, 0]\n",
      "17: [4, 1, 1, 0, 0, 0, 2, 3, 2, 7, 2, 1, 7, 3, 6, 4, 3, 2, 2, 3, 2, 5, 2, 0, 1, 4, 15]\n",
      "18: [10, 1, 1, 5, 5, 7, 3, 4, 3, 1, 2, 3, 2, 2, 6, 2, 2, 4, 2, 3, 0, 3, 3, 2, 3, 6, 0]\n"
     ]
    }
   ]
  },
  {
   "cell_type": "markdown",
   "metadata": {
    "id": "TTh7w8rgkznY"
   },
   "source": [
    "### **1.2. Métricas** "
   ]
  },
  {
   "cell_type": "markdown",
   "metadata": {
    "id": "clBerimQs2PY"
   },
   "source": [
    "Para cada array você deve calcular as seguintes métricas: \n",
    "\n",
    " - **média**;\n",
    " - **desvio padrão**."
   ]
  },
  {
   "cell_type": "code",
   "metadata": {
    "id": "fohdVuLzkdKP"
   },
   "source": [
    "for day in incident_by_day:\n",
    "    print(f\"O dia {day} tem a média de {np.mean(incident_by_day[day]):.2f} e o desvio de {np.std(incident_by_day[day]):.2f}.\")"
   ],
   "execution_count": 170,
   "outputs": [
    {
     "name": "stdout",
     "output_type": "stream",
     "text": [
      "O dia 14 tem a média de 0.59 e o desvio de 1.19.\n",
      "O dia 15 tem a média de 2.33 e o desvio de 2.02.\n",
      "O dia 16 tem a média de 3.48 e o desvio de 3.05.\n",
      "O dia 17 tem a média de 3.04 e o desvio de 3.05.\n",
      "O dia 18 tem a média de 3.15 e o desvio de 2.19.\n"
     ]
    }
   ]
  },
  {
   "cell_type": "markdown",
   "metadata": {
    "id": "xMnUokVV4Pcw"
   },
   "source": [
    "### **1.3. Interpretação** "
   ]
  },
  {
   "cell_type": "markdown",
   "metadata": {
    "id": "HxAhj3O14rhZ"
   },
   "source": [
    "Baseado nos resultados da questão 1.2, responda:"
   ]
  },
  {
   "cell_type": "markdown",
   "metadata": {
    "id": "VO4jLKYq4Pc6"
   },
   "source": [
    "> Qual dia apresenta a maior média de acidentes por meia hora?"
   ]
  },
  {
   "cell_type": "markdown",
   "metadata": {
    "id": "Oj3YJnQu4byN"
   },
   "source": [
    "**Resposta:** O dia 16 com uma média de 3.48 incidentes."
   ]
  },
  {
   "cell_type": "markdown",
   "metadata": {
    "id": "3awOYi0G4fIP"
   },
   "source": [
    "> Qual dia apresenta a menor variação de acidentes por meia hora?"
   ]
  },
  {
   "cell_type": "markdown",
   "metadata": {
    "id": "umQMblRh4fIP"
   },
   "source": [
    "**Resposta:** O dia 14 com um desvio padrão de 1.19"
   ]
  },
  {
   "cell_type": "markdown",
   "metadata": {
    "id": "waxn4B2UDHyl"
   },
   "source": [
    "---"
   ]
  }
 ]
}

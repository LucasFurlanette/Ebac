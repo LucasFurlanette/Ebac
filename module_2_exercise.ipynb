{
  "cells": [
    {
      "cell_type": "markdown",
      "metadata": {
        "id": "KJqp9AANOCtf"
      },
      "source": [
        "<img src=\"https://raw.githubusercontent.com/andre-marcos-perez/ebac-course-utils/main/media/logo/newebac_logo_black_half.png\" alt=\"ebac-logo\">\n",
        "\n",
        "---\n",
        "\n",
        "# **Módulo** | Python: Estruturas de Dados\n",
        "Caderno de **Exercícios**<br> \n",
        "Professor [André Perez](https://www.linkedin.com/in/andremarcosperez/)\n",
        "\n",
        "---"
      ]
    },
    {
      "cell_type": "markdown",
      "metadata": {
        "id": "d9jDtUbDOE1-"
      },
      "source": [
        "# **Tópicos**\n",
        "\n",
        "<ol type=\"1\">\n",
        "  <li>Listas;</li>\n",
        "  <li>Conjuntos;</li>\n",
        "  <li>Dicionários.</li>\n",
        "</ol>"
      ]
    },
    {
      "cell_type": "markdown",
      "metadata": {
        "id": "SmoHgt-lwkpD"
      },
      "source": [
        "---"
      ]
    },
    {
      "cell_type": "markdown",
      "metadata": {
        "id": "GABI6OW8OfQ2"
      },
      "source": [
        "# **Exercícios**"
      ]
    },
    {
      "cell_type": "markdown",
      "metadata": {
        "id": "muD1vxozykSC"
      },
      "source": [
        "## 1\\. Listas"
      ]
    },
    {
      "cell_type": "markdown",
      "metadata": {
        "id": "ahrFfCuBxJKs"
      },
      "source": [
        "Criei uma lista chamada `filmes` com o nome dos 10 primeiros filmes mais bem avaliados no site no [IMDB](https://www.imdb.com/chart/top/). Imprima o resultado."
      ]
    },
    {
      "cell_type": "code",
      "execution_count": 1,
      "metadata": {
        "id": "OgL6Hv3bzOHI"
      },
      "outputs": [
        {
          "name": "stdout",
          "output_type": "stream",
          "text": [
            "['Os Condenados de Shawshank', 'O Padrinho', 'O Cavaleiro das Trevas', 'O Padrinho: Parte II', 'Doze Homens em Fúria', 'A Lista de Schindler', 'O Senhor dos Anéis - A Irmandade do Anel', 'Pulp Fiction', 'O Senhor dos Anéis - A Irmandade do Anel', 'O Bom, o Mau e o Vilão']\n"
          ]
        }
      ],
      "source": [
        "filmes = ['Os Condenados de Shawshank' , 'O Padrinho' , 'O Cavaleiro das Trevas' , 'O Padrinho: Parte II' , 'Doze Homens em Fúria' , 'A Lista de Schindler' , 'O Senhor dos Anéis - A Irmandade do Anel' , 'Pulp Fiction' , 'O Senhor dos Anéis - A Irmandade do Anel' , 'O Bom, o Mau e o Vilão']\n",
        "print(filmes)"
      ]
    },
    {
      "cell_type": "markdown",
      "metadata": {
        "id": "KI9zQRT2xa7m"
      },
      "source": [
        "Simule a movimentação do *ranking*. Utilize os métodos `insert` e `pop` para trocar a posição do primeiro e do segundo filme da lista. Imprima o resultado.\n",
        "\n"
      ]
    },
    {
      "cell_type": "code",
      "execution_count": 32,
      "metadata": {
        "id": "zX3mA3_GzrXH"
      },
      "outputs": [
        {
          "name": "stdout",
          "output_type": "stream",
          "text": [
            "['O Padrinho', 'Os Condenados de Shawshank', 'O Cavaleiro das Trevas', 'O Padrinho: Parte II', 'Doze Homens em Fúria', 'A Lista de Schindler', 'O Senhor dos Anéis - A Irmandade do Anel', 'Pulp Fiction', 'O Senhor dos Anéis - A Irmandade do Anel', 'O Bom, o Mau e o Vilão']\n"
          ]
        }
      ],
      "source": [
        "filmes.pop(0)\n",
        "filmes.insert(0, 'O Padrinho')\n",
        "filmes.pop(1)\n",
        "filmes.insert(1, 'Os Condenados de Shawshank')\n",
        "print(filmes)"
      ]
    },
    {
      "cell_type": "code",
      "execution_count": 31,
      "metadata": {},
      "outputs": [
        {
          "name": "stdout",
          "output_type": "stream",
          "text": [
            "['Filme 1', 'Filme 2', 'O Cavaleiro das Trevas', 'O Padrinho: Parte II', 'Doze Homens em Fúria', 'A Lista de Schindler', 'O Senhor dos Anéis - A Irmandade do Anel', 'Pulp Fiction', 'O Senhor dos Anéis - A Irmandade do Anel', 'O Bom, o Mau e o Vilão']\n"
          ]
        }
      ],
      "source": [
        "filmes.insert(0, 'Filme 1')\n",
        "filmes.pop(2)\n",
        "filmes.insert(1, 'Filme 2')\n",
        "filmes.pop(2)\n",
        "print(filmes)"
      ]
    },
    {
      "cell_type": "markdown",
      "metadata": {
        "id": "zMN1Q3jdwoJm"
      },
      "source": [
        "---"
      ]
    },
    {
      "cell_type": "markdown",
      "metadata": {
        "id": "lxa5L6uF0ZJE"
      },
      "source": [
        "## 2\\. Conjuntos"
      ]
    },
    {
      "cell_type": "markdown",
      "metadata": {
        "id": "9JahS2Kj0d5u"
      },
      "source": [
        "Aconteceu um erro no seu *ranking*. Simule a duplicação dos três últimos filmes da lista. Imprima o resultado."
      ]
    },
    {
      "cell_type": "code",
      "execution_count": 2,
      "metadata": {
        "id": "BnjnLBNC6PGe"
      },
      "outputs": [
        {
          "name": "stdout",
          "output_type": "stream",
          "text": [
            "['Os Condenados de Shawshank', 'O Padrinho', 'O Cavaleiro das Trevas', 'O Padrinho: Parte II', 'Doze Homens em Fúria', 'A Lista de Schindler', 'O Senhor dos Anéis - A Irmandade do Anel', 'Pulp Fiction', 'O Senhor dos Anéis - A Irmandade do Anel', 'O Bom, o Mau e o Vilão', 'Pulp Fiction', 'O Senhor dos Anéis - A Irmandade do Anel', 'O Bom, o Mau e o Vilão']\n"
          ]
        }
      ],
      "source": [
        "filmes.append('Pulp Fiction')\n",
        "filmes.append('O Senhor dos Anéis - A Irmandade do Anel')\n",
        "filmes.append('O Bom, o Mau e o Vilão')\n",
        "print(filmes)"
      ]
    },
    {
      "cell_type": "markdown",
      "metadata": {
        "id": "suxTfCJB6ZiX"
      },
      "source": [
        "Utiliza a conversão `set` e `list` para remover os valores duplicados. Imprima o resultado. "
      ]
    },
    {
      "cell_type": "code",
      "execution_count": 3,
      "metadata": {
        "id": "ZvUGN-0n6joM"
      },
      "outputs": [
        {
          "name": "stdout",
          "output_type": "stream",
          "text": [
            "['Pulp Fiction', 'A Lista de Schindler', 'Doze Homens em Fúria', 'O Padrinho: Parte II', 'O Senhor dos Anéis - A Irmandade do Anel', 'O Padrinho', 'O Bom, o Mau e o Vilão', 'Os Condenados de Shawshank', 'O Cavaleiro das Trevas']\n"
          ]
        }
      ],
      "source": [
        "filmes = list(set(filmes))\n",
        "print(filmes)\n"
      ]
    },
    {
      "cell_type": "markdown",
      "metadata": {
        "id": "ShkK35eQ6pAM"
      },
      "source": [
        "---"
      ]
    },
    {
      "cell_type": "markdown",
      "metadata": {
        "id": "EL_FzmxL6rTv"
      },
      "source": [
        "## 3\\. Dicionários"
      ]
    },
    {
      "cell_type": "markdown",
      "metadata": {
        "id": "i8l0gFqRCpfT"
      },
      "source": [
        "Repita os exercícios da parte 1 (listas). Os elementos da lista `filmes` devem ser dicionários no seguinte formato: `{'nome': <nome-do-filme>, 'ano': <ano do filme>}, 'sinopse': <sinopse do filme>}`. "
      ]
    },
    {
      "cell_type": "code",
      "execution_count": 2,
      "metadata": {
        "id": "tu6MSFwGDnHv"
      },
      "outputs": [
        {
          "name": "stdout",
          "output_type": "stream",
          "text": [
            "('Os Condenados de Shawshank', 'Padrinho', 'O Cavaleiro das Trevas')\n"
          ]
        }
      ],
      "source": [
        "filme1 = dict(\n",
        "    nome='Os Condenados de Shawshank',\n",
        "    ano='1994',\n",
        "    sinopse='Two imprisoned men bond over a number of years, finding solace and eventual redemption through acts of common decency.'\n",
        ")\n",
        "\n",
        "filme2 = dict(\n",
        "    nome='Padrinho',\n",
        "    ano='1972',\n",
        "    sinopse='The aging patriarch of an organized crime dynasty in postwar New York City transfers control of his clandestine empire to his reluctant youngest son.'\n",
        ")\n",
        "\n",
        "filme3 = dict(\n",
        "    nome='O Cavaleiro das Trevas',\n",
        "    ano='2008',\n",
        "    sinopse='When the menace known as the Joker wreaks havoc and chaos on the people of Gotham, Batman must accept one of the greatest psychological and physical tests of his ability to fight injustice.'\n",
        ")\n",
        "\n",
        "filmes =  str(filme1['nome']), str(filme2['nome']), str(filme3['nome'])\n",
        "print(filmes)\n"
      ]
    },
    {
      "cell_type": "code",
      "execution_count": 3,
      "metadata": {},
      "outputs": [
        {
          "name": "stdout",
          "output_type": "stream",
          "text": [
            "{'nome': 'Os Condenados de Shawshank', 'ano': '1994', 'sinopse': 'Two imprisoned men bond over a number of years, finding solace and eventual redemption through acts of common decency.'}\n",
            "{'nome': 'Filme1', 'ano': 1990, 'sinopse': 'Sinopse do filme 1'}\n",
            "{'nome': 'Filme2', 'ano': '1992', 'sinopse': 'Sinopse do filme 2'}\n"
          ]
        }
      ],
      "source": [
        "print(filme1)\n",
        "filme1.update({'nome': 'Filme1'})\n",
        "filme1.update({'ano': 1990})\n",
        "filme1.update({'sinopse': 'Sinopse do filme 1'})\n",
        "print(filme1)\n",
        "\n",
        "novosfilmes2 = {'nome':'Filme2', 'ano':'1992', 'sinopse':'Sinopse do filme 2'}\n",
        "\n",
        "filme2.update(novosfilmes2)\n",
        "print(filme2)"
      ]
    },
    {
      "cell_type": "code",
      "execution_count": 9,
      "metadata": {},
      "outputs": [
        {
          "name": "stdout",
          "output_type": "stream",
          "text": [
            "Os Condenados de Shawshank\n"
          ]
        }
      ],
      "source": [
        "#alternative\n",
        "filmes = {\n",
        "    'filme1': {\n",
        "        'nome': 'Os Condenados de Shawshank',\n",
        "        'ano': '1994',\n",
        "        'sinopse': 'Two imprisoned men bond over a number of years, finding solace and eventual redemption through acts of common decency.'\n",
        "    },\n",
        "    'filme2': {\n",
        "        'nome': 'Padrinho',\n",
        "        'ano': '1972',\n",
        "        'sinopse': 'The aging patriarch of an organized crime dynasty in postwar New York City transfers control of his clandestine empire to his reluctant youngest son.'\n",
        "    }\n",
        "}\n",
        "print(filmes['filme1']['nome'])"
      ]
    }
  ],
  "metadata": {
    "colab": {
      "collapsed_sections": [],
      "name": "module_2_exercise.ipynb",
      "provenance": [],
      "toc_visible": true
    },
    "kernelspec": {
      "display_name": "Python 3.10.5 64-bit",
      "language": "python",
      "name": "python3"
    },
    "language_info": {
      "codemirror_mode": {
        "name": "ipython",
        "version": 3
      },
      "file_extension": ".py",
      "mimetype": "text/x-python",
      "name": "python",
      "nbconvert_exporter": "python",
      "pygments_lexer": "ipython3",
      "version": "3.10.5"
    },
    "vscode": {
      "interpreter": {
        "hash": "3196968d684371006099b3d55edeef8ed90365227a30deaef86e5d4aa8519be0"
      }
    }
  },
  "nbformat": 4,
  "nbformat_minor": 0
}

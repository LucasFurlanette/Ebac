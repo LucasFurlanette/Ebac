{
 "nbformat": 4,
 "nbformat_minor": 0,
 "metadata": {
  "colab": {
   "name": "modulo_23_exercicio.ipynb",
   "provenance": [],
   "collapsed_sections": []
  },
  "kernelspec": {
   "name": "python3",
   "display_name": "Python 3"
  }
 },
 "cells": [
  {
   "cell_type": "markdown",
   "metadata": {
    "id": "KJqp9AANOCtf"
   },
   "source": [
    "<img src=\"https://raw.githubusercontent.com/andre-marcos-perez/ebac-course-utils/main/media/logo/newebac_logo_black_half.png\" alt=\"ebac-logo\">\n",
    "\n",
    "---\n",
    "\n",
    "# **Módulo** | Análise de Dados: Fundamentos de Aprendizado de Máquina\n",
    "Caderno de **Exercícios**<br> \n",
    "Professor [André Perez](https://www.linkedin.com/in/andremarcosperez/)\n",
    "\n",
    "---"
   ]
  },
  {
   "cell_type": "markdown",
   "metadata": {
    "id": "d9jDtUbDOE1-"
   },
   "source": [
    "# **Tópicos**\n",
    "\n",
    "<ol type=\"1\">\n",
    "  <li>Teoria;</li>\n",
    "  <li>Atributos categóricos;</li>\n",
    "  <li>Atributos numéricos;</li>\n",
    "  <li>Dados faltantes.</li>\n",
    "</ol>"
   ]
  },
  {
   "cell_type": "markdown",
   "metadata": {
    "id": "SmoHgt-lwkpD"
   },
   "source": [
    "---"
   ]
  },
  {
   "cell_type": "markdown",
   "metadata": {
    "id": "GABI6OW8OfQ2"
   },
   "source": [
    "# **Exercícios**"
   ]
  },
  {
   "cell_type": "markdown",
   "metadata": {
    "id": "kzRDceCvkFj2"
   },
   "source": [
    "## 1\\. Pinguins "
   ]
  },
  {
   "cell_type": "markdown",
   "metadata": {
    "id": "WCQi-s0Hpd5V"
   },
   "source": [
    "Neste exercício, vamos utilizar uma base de dados com informações sobre penguins. A idéia é preparar a base de dados para prever a espécie do penguin (variável resposta) baseado em suas características físicas e geográficas (variáveis preditivas)."
   ]
  },
  {
   "cell_type": "code",
   "metadata": {
    "id": "lblH8kIXzPZZ"
   },
   "source": [
    "import numpy as np\n",
    "import pandas as pd\n",
    "import seaborn as sns"
   ],
   "execution_count": 1,
   "outputs": []
  },
  {
   "cell_type": "code",
   "metadata": {
    "id": "VR3UdrrQgJ4K"
   },
   "source": [
    "data = sns.load_dataset('penguins')"
   ],
   "execution_count": 2,
   "outputs": []
  },
  {
   "cell_type": "code",
   "metadata": {
    "id": "znk9Z9TLgTGP"
   },
   "source": [
    "data.head()"
   ],
   "execution_count": 3,
   "outputs": [
    {
     "data": {
      "text/plain": "  species     island  bill_length_mm  bill_depth_mm  flipper_length_mm  \\\n0  Adelie  Torgersen            39.1           18.7              181.0   \n1  Adelie  Torgersen            39.5           17.4              186.0   \n2  Adelie  Torgersen            40.3           18.0              195.0   \n3  Adelie  Torgersen             NaN            NaN                NaN   \n4  Adelie  Torgersen            36.7           19.3              193.0   \n\n   body_mass_g     sex  \n0       3750.0    Male  \n1       3800.0  Female  \n2       3250.0  Female  \n3          NaN     NaN  \n4       3450.0  Female  ",
      "text/html": "<div>\n<style scoped>\n    .dataframe tbody tr th:only-of-type {\n        vertical-align: middle;\n    }\n\n    .dataframe tbody tr th {\n        vertical-align: top;\n    }\n\n    .dataframe thead th {\n        text-align: right;\n    }\n</style>\n<table border=\"1\" class=\"dataframe\">\n  <thead>\n    <tr style=\"text-align: right;\">\n      <th></th>\n      <th>species</th>\n      <th>island</th>\n      <th>bill_length_mm</th>\n      <th>bill_depth_mm</th>\n      <th>flipper_length_mm</th>\n      <th>body_mass_g</th>\n      <th>sex</th>\n    </tr>\n  </thead>\n  <tbody>\n    <tr>\n      <th>0</th>\n      <td>Adelie</td>\n      <td>Torgersen</td>\n      <td>39.1</td>\n      <td>18.7</td>\n      <td>181.0</td>\n      <td>3750.0</td>\n      <td>Male</td>\n    </tr>\n    <tr>\n      <th>1</th>\n      <td>Adelie</td>\n      <td>Torgersen</td>\n      <td>39.5</td>\n      <td>17.4</td>\n      <td>186.0</td>\n      <td>3800.0</td>\n      <td>Female</td>\n    </tr>\n    <tr>\n      <th>2</th>\n      <td>Adelie</td>\n      <td>Torgersen</td>\n      <td>40.3</td>\n      <td>18.0</td>\n      <td>195.0</td>\n      <td>3250.0</td>\n      <td>Female</td>\n    </tr>\n    <tr>\n      <th>3</th>\n      <td>Adelie</td>\n      <td>Torgersen</td>\n      <td>NaN</td>\n      <td>NaN</td>\n      <td>NaN</td>\n      <td>NaN</td>\n      <td>NaN</td>\n    </tr>\n    <tr>\n      <th>4</th>\n      <td>Adelie</td>\n      <td>Torgersen</td>\n      <td>36.7</td>\n      <td>19.3</td>\n      <td>193.0</td>\n      <td>3450.0</td>\n      <td>Female</td>\n    </tr>\n  </tbody>\n</table>\n</div>"
     },
     "execution_count": 3,
     "metadata": {},
     "output_type": "execute_result"
    }
   ]
  },
  {
   "cell_type": "markdown",
   "metadata": {
    "id": "HrTLgE0tki6P"
   },
   "source": [
    "### **1.1. Valores nulos**"
   ]
  },
  {
   "cell_type": "markdown",
   "metadata": {
    "id": "8JmRsG6K8SPd"
   },
   "source": [
    "A base de dados possui valores faltantes, utilize os conceitos da aula para trata-los."
   ]
  },
  {
   "cell_type": "code",
   "metadata": {
    "id": "8kyhQS748SPf"
   },
   "source": [
    "#transformando em arrays\n",
    "blm = np.array(data['bill_length_mm'].dropna().astype(float).tolist())\n",
    "bdm = np.array(data['bill_depth_mm'].dropna().astype(float).tolist())\n",
    "flm = np.array(data['flipper_length_mm'].dropna().astype(float).tolist())\n",
    "bmg = np.array(data['body_mass_g'].dropna().astype(float).tolist())\n",
    "#calculando a média\n",
    "blm_m = float(f\"{np.mean(blm):.1f}\")\n",
    "bdm_m = float(f\"{np.mean(bdm):.1f}\")\n",
    "flm_m = float(f\"{np.mean(flm):.1f}\")\n",
    "bmg_m = float(f\"{np.mean(bmg):.1f}\")\n",
    "#aplicando a média nos valores nulos em atributos numericos\n",
    "data['bill_length_mm'] = data['bill_length_mm'].apply(lambda b: b if pd.notnull(b) else blm_m)\n",
    "data['bill_depth_mm'] = data['bill_depth_mm'].apply(lambda b: b if pd.notnull(b) else bdm_m)\n",
    "data['flipper_length_mm'] = data['flipper_length_mm'].apply(lambda b: b if pd.notnull(b) else flm_m)\n",
    "data['body_mass_g'] = data['body_mass_g'].apply(lambda b: b if pd.notnull(b) else bmg_m)\n",
    "#retirando valores nulos nos atributos categoricos restantes\n",
    "data.dropna(inplace=True)\n",
    "\n",
    "data.head()"
   ],
   "execution_count": 4,
   "outputs": [
    {
     "data": {
      "text/plain": "  species     island  bill_length_mm  bill_depth_mm  flipper_length_mm  \\\n0  Adelie  Torgersen            39.1           18.7              181.0   \n1  Adelie  Torgersen            39.5           17.4              186.0   \n2  Adelie  Torgersen            40.3           18.0              195.0   \n4  Adelie  Torgersen            36.7           19.3              193.0   \n5  Adelie  Torgersen            39.3           20.6              190.0   \n\n   body_mass_g     sex  \n0       3750.0    Male  \n1       3800.0  Female  \n2       3250.0  Female  \n4       3450.0  Female  \n5       3650.0    Male  ",
      "text/html": "<div>\n<style scoped>\n    .dataframe tbody tr th:only-of-type {\n        vertical-align: middle;\n    }\n\n    .dataframe tbody tr th {\n        vertical-align: top;\n    }\n\n    .dataframe thead th {\n        text-align: right;\n    }\n</style>\n<table border=\"1\" class=\"dataframe\">\n  <thead>\n    <tr style=\"text-align: right;\">\n      <th></th>\n      <th>species</th>\n      <th>island</th>\n      <th>bill_length_mm</th>\n      <th>bill_depth_mm</th>\n      <th>flipper_length_mm</th>\n      <th>body_mass_g</th>\n      <th>sex</th>\n    </tr>\n  </thead>\n  <tbody>\n    <tr>\n      <th>0</th>\n      <td>Adelie</td>\n      <td>Torgersen</td>\n      <td>39.1</td>\n      <td>18.7</td>\n      <td>181.0</td>\n      <td>3750.0</td>\n      <td>Male</td>\n    </tr>\n    <tr>\n      <th>1</th>\n      <td>Adelie</td>\n      <td>Torgersen</td>\n      <td>39.5</td>\n      <td>17.4</td>\n      <td>186.0</td>\n      <td>3800.0</td>\n      <td>Female</td>\n    </tr>\n    <tr>\n      <th>2</th>\n      <td>Adelie</td>\n      <td>Torgersen</td>\n      <td>40.3</td>\n      <td>18.0</td>\n      <td>195.0</td>\n      <td>3250.0</td>\n      <td>Female</td>\n    </tr>\n    <tr>\n      <th>4</th>\n      <td>Adelie</td>\n      <td>Torgersen</td>\n      <td>36.7</td>\n      <td>19.3</td>\n      <td>193.0</td>\n      <td>3450.0</td>\n      <td>Female</td>\n    </tr>\n    <tr>\n      <th>5</th>\n      <td>Adelie</td>\n      <td>Torgersen</td>\n      <td>39.3</td>\n      <td>20.6</td>\n      <td>190.0</td>\n      <td>3650.0</td>\n      <td>Male</td>\n    </tr>\n  </tbody>\n</table>\n</div>"
     },
     "execution_count": 4,
     "metadata": {},
     "output_type": "execute_result"
    }
   ]
  },
  {
   "cell_type": "markdown",
   "metadata": {
    "id": "9YtwYCuk8SPU"
   },
   "source": [
    "### **1.2. Variáveis numéricas** "
   ]
  },
  {
   "cell_type": "markdown",
   "metadata": {
    "id": "7tIjNOs8q6aZ"
   },
   "source": [
    "Identifique as variáveis numéricas e crie uma nova coluna **padronizando** seus valores. A nova coluna deve ter o mesmo nome da coluna original acrescidade de \"*_std*\"."
   ]
  },
  {
   "cell_type": "markdown",
   "metadata": {
    "id": "QchO_rKR8tyx"
   },
   "source": [
    "> **Nota**: Você não deve tratar a variável resposta."
   ]
  },
  {
   "cell_type": "code",
   "metadata": {
    "id": "IwTTh4VKkdKN"
   },
   "source": [
    "data['bill_length_mm_std'] = data['bill_length_mm'].apply(lambda x: (x - data['bill_length_mm'].mean()) / data['bill_length_mm'].std())\n",
    "data['bill_depth_mm_std'] = data['bill_depth_mm'].apply(lambda x: (x - data['bill_depth_mm'].mean()) / data['bill_depth_mm'].std())\n",
    "data['flipper_length_mm_std'] = data['flipper_length_mm'].apply(lambda x: (x - data['flipper_length_mm'].mean()) / data['flipper_length_mm'].std())\n",
    "#data['body_mass_g_std'] = data['body_mass_g'].apply(lambda x: (x - data['body_mass_g'].mean()) / data['body_mass_g'].std())\n",
    "data.head()"
   ],
   "execution_count": 5,
   "outputs": [
    {
     "data": {
      "text/plain": "  species     island  bill_length_mm  bill_depth_mm  flipper_length_mm  \\\n0  Adelie  Torgersen            39.1           18.7              181.0   \n1  Adelie  Torgersen            39.5           17.4              186.0   \n2  Adelie  Torgersen            40.3           18.0              195.0   \n4  Adelie  Torgersen            36.7           19.3              193.0   \n5  Adelie  Torgersen            39.3           20.6              190.0   \n\n   body_mass_g     sex  bill_length_mm_std  bill_depth_mm_std  \\\n0       3750.0    Male           -0.894695           0.779559   \n1       3800.0  Female           -0.821552           0.119404   \n2       3250.0  Female           -0.675264           0.424091   \n4       3450.0  Female           -1.333559           1.084246   \n5       3650.0    Male           -0.858123           1.744400   \n\n   flipper_length_mm_std  body_mass_g_std  \n0              -1.424608        -0.567621  \n1              -1.067867        -0.505525  \n2              -0.425733        -1.188572  \n4              -0.568429        -0.940192  \n5              -0.782474        -0.691811  ",
      "text/html": "<div>\n<style scoped>\n    .dataframe tbody tr th:only-of-type {\n        vertical-align: middle;\n    }\n\n    .dataframe tbody tr th {\n        vertical-align: top;\n    }\n\n    .dataframe thead th {\n        text-align: right;\n    }\n</style>\n<table border=\"1\" class=\"dataframe\">\n  <thead>\n    <tr style=\"text-align: right;\">\n      <th></th>\n      <th>species</th>\n      <th>island</th>\n      <th>bill_length_mm</th>\n      <th>bill_depth_mm</th>\n      <th>flipper_length_mm</th>\n      <th>body_mass_g</th>\n      <th>sex</th>\n      <th>bill_length_mm_std</th>\n      <th>bill_depth_mm_std</th>\n      <th>flipper_length_mm_std</th>\n      <th>body_mass_g_std</th>\n    </tr>\n  </thead>\n  <tbody>\n    <tr>\n      <th>0</th>\n      <td>Adelie</td>\n      <td>Torgersen</td>\n      <td>39.1</td>\n      <td>18.7</td>\n      <td>181.0</td>\n      <td>3750.0</td>\n      <td>Male</td>\n      <td>-0.894695</td>\n      <td>0.779559</td>\n      <td>-1.424608</td>\n      <td>-0.567621</td>\n    </tr>\n    <tr>\n      <th>1</th>\n      <td>Adelie</td>\n      <td>Torgersen</td>\n      <td>39.5</td>\n      <td>17.4</td>\n      <td>186.0</td>\n      <td>3800.0</td>\n      <td>Female</td>\n      <td>-0.821552</td>\n      <td>0.119404</td>\n      <td>-1.067867</td>\n      <td>-0.505525</td>\n    </tr>\n    <tr>\n      <th>2</th>\n      <td>Adelie</td>\n      <td>Torgersen</td>\n      <td>40.3</td>\n      <td>18.0</td>\n      <td>195.0</td>\n      <td>3250.0</td>\n      <td>Female</td>\n      <td>-0.675264</td>\n      <td>0.424091</td>\n      <td>-0.425733</td>\n      <td>-1.188572</td>\n    </tr>\n    <tr>\n      <th>4</th>\n      <td>Adelie</td>\n      <td>Torgersen</td>\n      <td>36.7</td>\n      <td>19.3</td>\n      <td>193.0</td>\n      <td>3450.0</td>\n      <td>Female</td>\n      <td>-1.333559</td>\n      <td>1.084246</td>\n      <td>-0.568429</td>\n      <td>-0.940192</td>\n    </tr>\n    <tr>\n      <th>5</th>\n      <td>Adelie</td>\n      <td>Torgersen</td>\n      <td>39.3</td>\n      <td>20.6</td>\n      <td>190.0</td>\n      <td>3650.0</td>\n      <td>Male</td>\n      <td>-0.858123</td>\n      <td>1.744400</td>\n      <td>-0.782474</td>\n      <td>-0.691811</td>\n    </tr>\n  </tbody>\n</table>\n</div>"
     },
     "execution_count": 5,
     "metadata": {},
     "output_type": "execute_result"
    }
   ]
  },
  {
   "cell_type": "markdown",
   "metadata": {
    "id": "TTh7w8rgkznY"
   },
   "source": [
    "### **1.3. Variáveis categóricas** "
   ]
  },
  {
   "cell_type": "markdown",
   "metadata": {
    "id": "clBerimQs2PY"
   },
   "source": [
    "Identifique as variáveis categóricas nominais e ordinais, crie uma nova coluna aplicando a técnica correta de conversão a seus valores. A nova coluna deve ter o mesmo nome da coluna original acrescidade de \"*_nom*\" ou \"*_ord*\"."
   ]
  },
  {
   "cell_type": "markdown",
   "metadata": {
    "id": "BqpAVY109BWA"
   },
   "source": [
    "> **Nota**: Você não deve tratar a variável resposta."
   ]
  },
  {
   "cell_type": "code",
   "execution_count": 6,
   "outputs": [
    {
     "data": {
      "text/plain": "  species     island  bill_length_mm  bill_depth_mm  flipper_length_mm  \\\n0  Adelie  Torgersen            39.1           18.7              181.0   \n1  Adelie  Torgersen            39.5           17.4              186.0   \n2  Adelie  Torgersen            40.3           18.0              195.0   \n4  Adelie  Torgersen            36.7           19.3              193.0   \n5  Adelie  Torgersen            39.3           20.6              190.0   \n\n   body_mass_g     sex  bill_length_mm_std  bill_depth_mm_std  \\\n0       3750.0    Male           -0.894695           0.779559   \n1       3800.0  Female           -0.821552           0.119404   \n2       3250.0  Female           -0.675264           0.424091   \n4       3450.0  Female           -1.333559           1.084246   \n5       3650.0    Male           -0.858123           1.744400   \n\n   flipper_length_mm_std  body_mass_g_std  sex_m  sex_f  island_torgersen  \\\n0              -1.424608        -0.567621      1      0                 1   \n1              -1.067867        -0.505525      0      1                 1   \n2              -0.425733        -1.188572      0      1                 1   \n4              -0.568429        -0.940192      0      1                 1   \n5              -0.782474        -0.691811      1      0                 1   \n\n   island_biscoe  island_dream  specie_adelie  specie_chinstrap  specie_gentoo  \n0              0             0              1                 0              0  \n1              0             0              1                 0              0  \n2              0             0              1                 0              0  \n4              0             0              1                 0              0  \n5              0             0              1                 0              0  ",
      "text/html": "<div>\n<style scoped>\n    .dataframe tbody tr th:only-of-type {\n        vertical-align: middle;\n    }\n\n    .dataframe tbody tr th {\n        vertical-align: top;\n    }\n\n    .dataframe thead th {\n        text-align: right;\n    }\n</style>\n<table border=\"1\" class=\"dataframe\">\n  <thead>\n    <tr style=\"text-align: right;\">\n      <th></th>\n      <th>species</th>\n      <th>island</th>\n      <th>bill_length_mm</th>\n      <th>bill_depth_mm</th>\n      <th>flipper_length_mm</th>\n      <th>body_mass_g</th>\n      <th>sex</th>\n      <th>bill_length_mm_std</th>\n      <th>bill_depth_mm_std</th>\n      <th>flipper_length_mm_std</th>\n      <th>body_mass_g_std</th>\n      <th>sex_m</th>\n      <th>sex_f</th>\n      <th>island_torgersen</th>\n      <th>island_biscoe</th>\n      <th>island_dream</th>\n      <th>specie_adelie</th>\n      <th>specie_chinstrap</th>\n      <th>specie_gentoo</th>\n    </tr>\n  </thead>\n  <tbody>\n    <tr>\n      <th>0</th>\n      <td>Adelie</td>\n      <td>Torgersen</td>\n      <td>39.1</td>\n      <td>18.7</td>\n      <td>181.0</td>\n      <td>3750.0</td>\n      <td>Male</td>\n      <td>-0.894695</td>\n      <td>0.779559</td>\n      <td>-1.424608</td>\n      <td>-0.567621</td>\n      <td>1</td>\n      <td>0</td>\n      <td>1</td>\n      <td>0</td>\n      <td>0</td>\n      <td>1</td>\n      <td>0</td>\n      <td>0</td>\n    </tr>\n    <tr>\n      <th>1</th>\n      <td>Adelie</td>\n      <td>Torgersen</td>\n      <td>39.5</td>\n      <td>17.4</td>\n      <td>186.0</td>\n      <td>3800.0</td>\n      <td>Female</td>\n      <td>-0.821552</td>\n      <td>0.119404</td>\n      <td>-1.067867</td>\n      <td>-0.505525</td>\n      <td>0</td>\n      <td>1</td>\n      <td>1</td>\n      <td>0</td>\n      <td>0</td>\n      <td>1</td>\n      <td>0</td>\n      <td>0</td>\n    </tr>\n    <tr>\n      <th>2</th>\n      <td>Adelie</td>\n      <td>Torgersen</td>\n      <td>40.3</td>\n      <td>18.0</td>\n      <td>195.0</td>\n      <td>3250.0</td>\n      <td>Female</td>\n      <td>-0.675264</td>\n      <td>0.424091</td>\n      <td>-0.425733</td>\n      <td>-1.188572</td>\n      <td>0</td>\n      <td>1</td>\n      <td>1</td>\n      <td>0</td>\n      <td>0</td>\n      <td>1</td>\n      <td>0</td>\n      <td>0</td>\n    </tr>\n    <tr>\n      <th>4</th>\n      <td>Adelie</td>\n      <td>Torgersen</td>\n      <td>36.7</td>\n      <td>19.3</td>\n      <td>193.0</td>\n      <td>3450.0</td>\n      <td>Female</td>\n      <td>-1.333559</td>\n      <td>1.084246</td>\n      <td>-0.568429</td>\n      <td>-0.940192</td>\n      <td>0</td>\n      <td>1</td>\n      <td>1</td>\n      <td>0</td>\n      <td>0</td>\n      <td>1</td>\n      <td>0</td>\n      <td>0</td>\n    </tr>\n    <tr>\n      <th>5</th>\n      <td>Adelie</td>\n      <td>Torgersen</td>\n      <td>39.3</td>\n      <td>20.6</td>\n      <td>190.0</td>\n      <td>3650.0</td>\n      <td>Male</td>\n      <td>-0.858123</td>\n      <td>1.744400</td>\n      <td>-0.782474</td>\n      <td>-0.691811</td>\n      <td>1</td>\n      <td>0</td>\n      <td>1</td>\n      <td>0</td>\n      <td>0</td>\n      <td>1</td>\n      <td>0</td>\n      <td>0</td>\n    </tr>\n  </tbody>\n</table>\n</div>"
     },
     "execution_count": 6,
     "metadata": {},
     "output_type": "execute_result"
    }
   ],
   "source": [
    "data['sex_m'] = data['sex'].apply(lambda sex: 1 if sex == 'Male' else 0)\n",
    "data['sex_f'] = data['sex'].apply(lambda sex: 1 if sex == 'Female' else 0)\n",
    "\n",
    "data['island_torgersen'] = data['island'].apply(lambda island: 1 if island == 'Torgersen' else 0)\n",
    "data['island_biscoe'] = data['island'].apply(lambda island: 1 if island == 'Biscoe' else 0)\n",
    "data['island_dream'] = data['island'].apply(lambda island: 1 if island == 'Dream' else 0)\n",
    "data['specie_adelie'] = data['species'].apply(lambda specie: 1 if specie == 'Adelie' else 0)\n",
    "data['specie_chinstrap'] = data['species'].apply(lambda specie: 1 if specie == 'Chinstrap' else 0)\n",
    "data['specie_gentoo'] = data['species'].apply(lambda specie: 1 if specie == 'Gentoo' else 0)\n",
    "\n",
    "data.head()"
   ],
   "metadata": {
    "collapsed": false
   }
  },
  {
   "cell_type": "markdown",
   "metadata": {
    "id": "AvkcQD9E9DGE"
   },
   "source": [
    "### **1.4. Limpeza** "
   ]
  },
  {
   "cell_type": "markdown",
   "metadata": {
    "id": "D03kCy8-9DGE"
   },
   "source": [
    "Descarte as colunas originais e mantenha apenas a variável resposta e as variáveis preditivas com o sufixo *_std*\", *_nom*\" e \"*_ord*\". "
   ]
  },
  {
   "cell_type": "code",
   "metadata": {
    "id": "TuEOO6009DGE"
   },
   "source": [
    "data.drop(data.columns[[0,1,2,3,4,6]], axis=1, inplace=True)\n",
    "data.head()"
   ],
   "execution_count": 7,
   "outputs": [
    {
     "data": {
      "text/plain": "   bill_length_mm_std  bill_depth_mm_std  flipper_length_mm_std  \\\n0           -0.894695           0.779559              -1.424608   \n1           -0.821552           0.119404              -1.067867   \n2           -0.675264           0.424091              -0.425733   \n4           -1.333559           1.084246              -0.568429   \n5           -0.858123           1.744400              -0.782474   \n\n   body_mass_g_std  sex_m  sex_f  island_torgersen  island_biscoe  \\\n0        -0.567621      1      0                 1              0   \n1        -0.505525      0      1                 1              0   \n2        -1.188572      0      1                 1              0   \n4        -0.940192      0      1                 1              0   \n5        -0.691811      1      0                 1              0   \n\n   island_dream  specie_adelie  specie_chinstrap  specie_gentoo  \n0             0              1                 0              0  \n1             0              1                 0              0  \n2             0              1                 0              0  \n4             0              1                 0              0  \n5             0              1                 0              0  ",
      "text/html": "<div>\n<style scoped>\n    .dataframe tbody tr th:only-of-type {\n        vertical-align: middle;\n    }\n\n    .dataframe tbody tr th {\n        vertical-align: top;\n    }\n\n    .dataframe thead th {\n        text-align: right;\n    }\n</style>\n<table border=\"1\" class=\"dataframe\">\n  <thead>\n    <tr style=\"text-align: right;\">\n      <th></th>\n      <th>bill_length_mm_std</th>\n      <th>bill_depth_mm_std</th>\n      <th>flipper_length_mm_std</th>\n      <th>body_mass_g_std</th>\n      <th>sex_m</th>\n      <th>sex_f</th>\n      <th>island_torgersen</th>\n      <th>island_biscoe</th>\n      <th>island_dream</th>\n      <th>specie_adelie</th>\n      <th>specie_chinstrap</th>\n      <th>specie_gentoo</th>\n    </tr>\n  </thead>\n  <tbody>\n    <tr>\n      <th>0</th>\n      <td>-0.894695</td>\n      <td>0.779559</td>\n      <td>-1.424608</td>\n      <td>-0.567621</td>\n      <td>1</td>\n      <td>0</td>\n      <td>1</td>\n      <td>0</td>\n      <td>0</td>\n      <td>1</td>\n      <td>0</td>\n      <td>0</td>\n    </tr>\n    <tr>\n      <th>1</th>\n      <td>-0.821552</td>\n      <td>0.119404</td>\n      <td>-1.067867</td>\n      <td>-0.505525</td>\n      <td>0</td>\n      <td>1</td>\n      <td>1</td>\n      <td>0</td>\n      <td>0</td>\n      <td>1</td>\n      <td>0</td>\n      <td>0</td>\n    </tr>\n    <tr>\n      <th>2</th>\n      <td>-0.675264</td>\n      <td>0.424091</td>\n      <td>-0.425733</td>\n      <td>-1.188572</td>\n      <td>0</td>\n      <td>1</td>\n      <td>1</td>\n      <td>0</td>\n      <td>0</td>\n      <td>1</td>\n      <td>0</td>\n      <td>0</td>\n    </tr>\n    <tr>\n      <th>4</th>\n      <td>-1.333559</td>\n      <td>1.084246</td>\n      <td>-0.568429</td>\n      <td>-0.940192</td>\n      <td>0</td>\n      <td>1</td>\n      <td>1</td>\n      <td>0</td>\n      <td>0</td>\n      <td>1</td>\n      <td>0</td>\n      <td>0</td>\n    </tr>\n    <tr>\n      <th>5</th>\n      <td>-0.858123</td>\n      <td>1.744400</td>\n      <td>-0.782474</td>\n      <td>-0.691811</td>\n      <td>1</td>\n      <td>0</td>\n      <td>1</td>\n      <td>0</td>\n      <td>0</td>\n      <td>1</td>\n      <td>0</td>\n      <td>0</td>\n    </tr>\n  </tbody>\n</table>\n</div>"
     },
     "execution_count": 7,
     "metadata": {},
     "output_type": "execute_result"
    }
   ]
  },
  {
   "cell_type": "markdown",
   "metadata": {
    "id": "waxn4B2UDHyl"
   },
   "source": [
    "---"
   ]
  }
 ]
}

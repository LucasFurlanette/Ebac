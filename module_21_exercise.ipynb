{
 "nbformat": 4,
 "nbformat_minor": 0,
 "metadata": {
  "colab": {
   "name": "module_21_exercise.ipynb",
   "provenance": [],
   "collapsed_sections": []
  },
  "kernelspec": {
   "name": "python3",
   "display_name": "Python 3"
  }
 },
 "cells": [
  {
   "cell_type": "markdown",
   "metadata": {
    "id": "KJqp9AANOCtf"
   },
   "source": [
    "<img src=\"https://raw.githubusercontent.com/andre-marcos-perez/ebac-course-utils/main/media/logo/newebac_logo_black_half.png\" alt=\"ebac-logo\">\n",
    "\n",
    "---\n",
    "\n",
    "# **Módulo** | Análise de Dados: Fundamentos de Matemática\n",
    "Caderno de **Exercícios**<br> \n",
    "Professor [André Perez](https://www.linkedin.com/in/andremarcosperez/)\n",
    "\n",
    "---"
   ]
  },
  {
   "cell_type": "markdown",
   "metadata": {
    "id": "d9jDtUbDOE1-"
   },
   "source": [
    "# **Tópicos**\n",
    "\n",
    "<ol type=\"1\">\n",
    "  <li>Vetorização;</li>\n",
    "  <li>Arrays Numpy;</li>\n",
    "  <li>Operações.</li>\n",
    "</ol>"
   ]
  },
  {
   "cell_type": "markdown",
   "metadata": {
    "id": "SmoHgt-lwkpD"
   },
   "source": [
    "---"
   ]
  },
  {
   "cell_type": "markdown",
   "metadata": {
    "id": "GABI6OW8OfQ2"
   },
   "source": [
    "# **Exercícios**"
   ]
  },
  {
   "cell_type": "markdown",
   "metadata": {
    "id": "kzRDceCvkFj2"
   },
   "source": [
    "## 1\\. Tráfego de São Paulo"
   ]
  },
  {
   "cell_type": "markdown",
   "metadata": {
    "id": "WCQi-s0Hpd5V"
   },
   "source": [
    "Neste exercício, vamos analisar dados de mobilidade urbana da cidade de São Paulo. A base de dados está neste [link](https://raw.githubusercontent.com/andre-marcos-perez/ebac-course-utils/develop/dataset/traffic.csv) e é uma copia do dado original, presente neste [link](https://archive.ics.uci.edu/ml/datasets/Behavior+of+the+urban+traffic+of+the+city+of+Sao+Paulo+in+Brazil). A base de dados contem a quantidade de acidentes ocorridos na cidade entre 14/12/09 e 18/12/09, das 07:00h ás 20:00h, agregados em intervalos de 30 minutos."
   ]
  },
  {
   "cell_type": "code",
   "metadata": {
    "id": "lblH8kIXzPZZ"
   },
   "source": [
    "!wget -q \"https://raw.githubusercontent.com/andre-marcos-perez/ebac-course-utils/develop/dataset/traffic.csv\" -O traffic.csv"
   ],
   "execution_count": null,
   "outputs": []
  },
  {
   "cell_type": "code",
   "metadata": {
    "id": "cuuqGTo_ffKI"
   },
   "source": [
    "import pandas as pd"
   ],
   "execution_count": 1,
   "outputs": []
  },
  {
   "cell_type": "code",
   "metadata": {
    "id": "VR3UdrrQgJ4K"
   },
   "source": [
    "df = pd.read_csv('dados/traffic.csv', sep=';')"
   ],
   "execution_count": 2,
   "outputs": []
  },
  {
   "cell_type": "code",
   "metadata": {
    "id": "znk9Z9TLgTGP"
   },
   "source": [
    "df.head()"
   ],
   "execution_count": 3,
   "outputs": [
    {
     "data": {
      "text/plain": "   hour  bus_stoped  broken_truck  vehicle_excess  accident_victim  \\\n0     1           0             0               0                0   \n1     2           0             0               0                0   \n2     3           0             0               0                0   \n3     4           0             0               0                0   \n4     5           0             0               0                0   \n\n   running_over  fire_vehicles  occurrence_freight  \\\n0             0              0                   0   \n1             0              0                   0   \n2             0              0                   0   \n3             0              0                   0   \n4             0              0                   0   \n\n   incident__dangerous_freight  lack_electricity  fire  flooding  \\\n0                            0                 0     0         0   \n1                            0                 0     0         0   \n2                            0                 0     0         0   \n3                            0                 0     0         0   \n4                            0                 0     0         0   \n\n   manifestations  defect_trolleybuses  tree_road  semaphore_off  \\\n0               0                    0          0              0   \n1               0                    0          0              0   \n2               0                    0          0              0   \n3               0                    0          0              0   \n4               0                    0          0              0   \n\n   intermittent_emaphore slowness_traffic_%  \n0                      0                4,1  \n1                      0                6,6  \n2                      0                8,7  \n3                      0                9,2  \n4                      0               11,1  ",
      "text/html": "<div>\n<style scoped>\n    .dataframe tbody tr th:only-of-type {\n        vertical-align: middle;\n    }\n\n    .dataframe tbody tr th {\n        vertical-align: top;\n    }\n\n    .dataframe thead th {\n        text-align: right;\n    }\n</style>\n<table border=\"1\" class=\"dataframe\">\n  <thead>\n    <tr style=\"text-align: right;\">\n      <th></th>\n      <th>hour</th>\n      <th>bus_stoped</th>\n      <th>broken_truck</th>\n      <th>vehicle_excess</th>\n      <th>accident_victim</th>\n      <th>running_over</th>\n      <th>fire_vehicles</th>\n      <th>occurrence_freight</th>\n      <th>incident__dangerous_freight</th>\n      <th>lack_electricity</th>\n      <th>fire</th>\n      <th>flooding</th>\n      <th>manifestations</th>\n      <th>defect_trolleybuses</th>\n      <th>tree_road</th>\n      <th>semaphore_off</th>\n      <th>intermittent_emaphore</th>\n      <th>slowness_traffic_%</th>\n    </tr>\n  </thead>\n  <tbody>\n    <tr>\n      <th>0</th>\n      <td>1</td>\n      <td>0</td>\n      <td>0</td>\n      <td>0</td>\n      <td>0</td>\n      <td>0</td>\n      <td>0</td>\n      <td>0</td>\n      <td>0</td>\n      <td>0</td>\n      <td>0</td>\n      <td>0</td>\n      <td>0</td>\n      <td>0</td>\n      <td>0</td>\n      <td>0</td>\n      <td>0</td>\n      <td>4,1</td>\n    </tr>\n    <tr>\n      <th>1</th>\n      <td>2</td>\n      <td>0</td>\n      <td>0</td>\n      <td>0</td>\n      <td>0</td>\n      <td>0</td>\n      <td>0</td>\n      <td>0</td>\n      <td>0</td>\n      <td>0</td>\n      <td>0</td>\n      <td>0</td>\n      <td>0</td>\n      <td>0</td>\n      <td>0</td>\n      <td>0</td>\n      <td>0</td>\n      <td>6,6</td>\n    </tr>\n    <tr>\n      <th>2</th>\n      <td>3</td>\n      <td>0</td>\n      <td>0</td>\n      <td>0</td>\n      <td>0</td>\n      <td>0</td>\n      <td>0</td>\n      <td>0</td>\n      <td>0</td>\n      <td>0</td>\n      <td>0</td>\n      <td>0</td>\n      <td>0</td>\n      <td>0</td>\n      <td>0</td>\n      <td>0</td>\n      <td>0</td>\n      <td>8,7</td>\n    </tr>\n    <tr>\n      <th>3</th>\n      <td>4</td>\n      <td>0</td>\n      <td>0</td>\n      <td>0</td>\n      <td>0</td>\n      <td>0</td>\n      <td>0</td>\n      <td>0</td>\n      <td>0</td>\n      <td>0</td>\n      <td>0</td>\n      <td>0</td>\n      <td>0</td>\n      <td>0</td>\n      <td>0</td>\n      <td>0</td>\n      <td>0</td>\n      <td>9,2</td>\n    </tr>\n    <tr>\n      <th>4</th>\n      <td>5</td>\n      <td>0</td>\n      <td>0</td>\n      <td>0</td>\n      <td>0</td>\n      <td>0</td>\n      <td>0</td>\n      <td>0</td>\n      <td>0</td>\n      <td>0</td>\n      <td>0</td>\n      <td>0</td>\n      <td>0</td>\n      <td>0</td>\n      <td>0</td>\n      <td>0</td>\n      <td>0</td>\n      <td>11,1</td>\n    </tr>\n  </tbody>\n</table>\n</div>"
     },
     "execution_count": 3,
     "metadata": {},
     "output_type": "execute_result"
    }
   ]
  },
  {
   "cell_type": "markdown",
   "metadata": {
    "id": "eMG4JHaugQbV"
   },
   "source": [
    "- **Exemplo**: "
   ]
  },
  {
   "cell_type": "markdown",
   "metadata": {
    "id": "WGcei39Pwc9u"
   },
   "source": [
    "O código abaixo extrai a 13ª linha do arquivo que representa a 14ª meia hora do dia 14/12/09, contadas a partir das 07:00h, ou seja, todos os incidentes ocorridos na cidade no dia em questão entre as 13:30h e 14:00h. Vemos, por exemplo, que dois ônibus e dois caminhões ficaram paradados nas ruas da cidade, atrapalhando o tráfego."
   ]
  },
  {
   "cell_type": "code",
   "metadata": {
    "id": "rVUKA_RkiFeg"
   },
   "source": [
    "df.iloc[[13]]"
   ],
   "execution_count": 4,
   "outputs": [
    {
     "data": {
      "text/plain": "    hour  bus_stoped  broken_truck  vehicle_excess  accident_victim  \\\n13    14           2             2               0                1   \n\n    running_over  fire_vehicles  occurrence_freight  \\\n13             0              0                   0   \n\n    incident__dangerous_freight  lack_electricity  fire  flooding  \\\n13                            0                 0     0         0   \n\n    manifestations  defect_trolleybuses  tree_road  semaphore_off  \\\n13               0                    0          0              0   \n\n    intermittent_emaphore slowness_traffic_%  \n13                      0                4,9  ",
      "text/html": "<div>\n<style scoped>\n    .dataframe tbody tr th:only-of-type {\n        vertical-align: middle;\n    }\n\n    .dataframe tbody tr th {\n        vertical-align: top;\n    }\n\n    .dataframe thead th {\n        text-align: right;\n    }\n</style>\n<table border=\"1\" class=\"dataframe\">\n  <thead>\n    <tr style=\"text-align: right;\">\n      <th></th>\n      <th>hour</th>\n      <th>bus_stoped</th>\n      <th>broken_truck</th>\n      <th>vehicle_excess</th>\n      <th>accident_victim</th>\n      <th>running_over</th>\n      <th>fire_vehicles</th>\n      <th>occurrence_freight</th>\n      <th>incident__dangerous_freight</th>\n      <th>lack_electricity</th>\n      <th>fire</th>\n      <th>flooding</th>\n      <th>manifestations</th>\n      <th>defect_trolleybuses</th>\n      <th>tree_road</th>\n      <th>semaphore_off</th>\n      <th>intermittent_emaphore</th>\n      <th>slowness_traffic_%</th>\n    </tr>\n  </thead>\n  <tbody>\n    <tr>\n      <th>13</th>\n      <td>14</td>\n      <td>2</td>\n      <td>2</td>\n      <td>0</td>\n      <td>1</td>\n      <td>0</td>\n      <td>0</td>\n      <td>0</td>\n      <td>0</td>\n      <td>0</td>\n      <td>0</td>\n      <td>0</td>\n      <td>0</td>\n      <td>0</td>\n      <td>0</td>\n      <td>0</td>\n      <td>0</td>\n      <td>4,9</td>\n    </tr>\n  </tbody>\n</table>\n</div>"
     },
     "execution_count": 4,
     "metadata": {},
     "output_type": "execute_result"
    }
   ]
  },
  {
   "cell_type": "markdown",
   "metadata": {
    "id": "HrTLgE0tki6P"
   },
   "source": [
    "### **1.1. Nativo** "
   ]
  },
  {
   "cell_type": "markdown",
   "metadata": {
    "id": "7tIjNOs8q6aZ"
   },
   "source": [
    "Neste primeira atividade, você deve ler o código abaixo implementado em Python nativo e responder a seguinte pergunta:"
   ]
  },
  {
   "cell_type": "markdown",
   "metadata": {
    "id": "LH-VxJ__syZd"
   },
   "source": [
    "> O que o código abaixo computa?"
   ]
  },
  {
   "cell_type": "markdown",
   "metadata": {
    "id": "KEUTG1OIs0VN"
   },
   "source": [
    "**Resposta**: Processa o csv por cada meia hora somando os acidentes, depois organiza em um dicionário separado por dias."
   ]
  },
  {
   "cell_type": "code",
   "metadata": {
    "id": "IwTTh4VKkdKN"
   },
   "source": [
    "# -- read\n",
    "\n",
    "data = None\n",
    "\n",
    "with open(file='dados/traffic.csv', mode='r', encoding='utf8') as fp:\n",
    "  \n",
    "  fp.readline()\n",
    "  data = fp.read()\n",
    "\n",
    "# -- analytics\n",
    "\n",
    "day = 14\n",
    "incidents = 0\n",
    "incident_by_day = dict()\n",
    "\n",
    "for timebox in data.split(sep='\\n'):\n",
    "\n",
    "  timebox_data = timebox.split(sep=';')\n",
    "\n",
    "  # --\n",
    "  # -- inicio da computação escalar\n",
    "  # --\n",
    "\n",
    "  for incident in timebox_data[1: len(timebox_data)-1]:\n",
    "    incidents = incidents + int(incident)\n",
    "\n",
    "  # --\n",
    "  # -- fim da computação escalar\n",
    "  # --\n",
    "\n",
    "  try:\n",
    "\n",
    "    half_hour = int(timebox_data[0])\n",
    "\n",
    "    if half_hour == 27:\n",
    "      incident_by_day[day] = incidents\n",
    "      day = day + 1\n",
    "      incidents = 0\n",
    "\n",
    "  except ValueError:\n",
    "    continue\n",
    "\n",
    "# -- results\n",
    "\n",
    "for day in incident_by_day:\n",
    "\n",
    "  print(f'{day}: {incident_by_day[day]}')"
   ],
   "execution_count": 1,
   "outputs": [
    {
     "name": "stdout",
     "output_type": "stream",
     "text": [
      "1\n",
      "2\n",
      "3\n",
      "4\n",
      "5\n",
      "6\n",
      "7\n",
      "8\n",
      "9\n",
      "10\n",
      "11\n",
      "12\n",
      "13\n",
      "14\n",
      "15\n",
      "16\n",
      "17\n",
      "18\n",
      "19\n",
      "20\n",
      "21\n",
      "22\n",
      "23\n",
      "24\n",
      "25\n",
      "26\n",
      "27\n",
      "1\n",
      "2\n",
      "3\n",
      "4\n",
      "5\n",
      "6\n",
      "7\n",
      "8\n",
      "9\n",
      "10\n",
      "11\n",
      "12\n",
      "13\n",
      "14\n",
      "15\n",
      "16\n",
      "17\n",
      "18\n",
      "19\n",
      "20\n",
      "21\n",
      "22\n",
      "23\n",
      "24\n",
      "25\n",
      "26\n",
      "27\n",
      "1\n",
      "2\n",
      "3\n",
      "4\n",
      "5\n",
      "6\n",
      "7\n",
      "8\n",
      "9\n",
      "10\n",
      "11\n",
      "12\n",
      "13\n",
      "14\n",
      "15\n",
      "16\n",
      "17\n",
      "18\n",
      "19\n",
      "20\n",
      "21\n",
      "22\n",
      "23\n",
      "24\n",
      "25\n",
      "26\n",
      "27\n",
      "1\n",
      "2\n",
      "3\n",
      "4\n",
      "5\n",
      "6\n",
      "7\n",
      "8\n",
      "9\n",
      "10\n",
      "11\n",
      "12\n",
      "13\n",
      "14\n",
      "15\n",
      "16\n",
      "17\n",
      "18\n",
      "19\n",
      "20\n",
      "21\n",
      "22\n",
      "23\n",
      "24\n",
      "25\n",
      "26\n",
      "27\n",
      "1\n",
      "2\n",
      "3\n",
      "4\n",
      "5\n",
      "6\n",
      "7\n",
      "8\n",
      "9\n",
      "10\n",
      "11\n",
      "12\n",
      "13\n",
      "14\n",
      "15\n",
      "16\n",
      "17\n",
      "18\n",
      "19\n",
      "20\n",
      "21\n",
      "22\n",
      "23\n",
      "24\n",
      "25\n",
      "26\n",
      "27\n",
      "14: 16\n",
      "15: 63\n",
      "16: 94\n",
      "17: 82\n",
      "18: 85\n"
     ]
    }
   ]
  },
  {
   "cell_type": "markdown",
   "metadata": {
    "id": "TTh7w8rgkznY"
   },
   "source": [
    "### **1.2. NumPy** "
   ]
  },
  {
   "cell_type": "markdown",
   "metadata": {
    "id": "clBerimQs2PY"
   },
   "source": [
    "Substitua o trecho do código do algoritmo que utiliza da **computação escalar** por um que utiliza da **computação vetorial**. Use o pacote NumPy."
   ]
  },
  {
   "cell_type": "code",
   "metadata": {
    "id": "fohdVuLzkdKP"
   },
   "source": [
    "# -- read\n",
    "\n",
    "data = None\n",
    "\n",
    "with open(file='dados/traffic.csv', mode='r', encoding='utf8') as fp:\n",
    "  \n",
    "  fp.readline()\n",
    "  data = fp.read()\n",
    "\n",
    "# -- analytics\n",
    "\n",
    "import numpy as np\n",
    "\n",
    "day = 14\n",
    "incidents = 0\n",
    "incident_by_day = dict()\n",
    "\n",
    "for timebox in data.split(sep='\\n'):\n",
    "\n",
    "  timebox_data = timebox.split(sep=';')\n",
    "\n",
    "  # --\n",
    "  # -- inicio da computação vetorial\n",
    "  # --\n",
    "  \n",
    "  i = np.array(timebox_data[1: len(timebox_data) -1], dtype=int)\n",
    "  incidents = incidents + np.sum(i)\n",
    "\n",
    "  # --\n",
    "  # -- fim da computação vetorial\n",
    "  # --\n",
    "\n",
    "  try: \n",
    "\n",
    "    half_hour = int(timebox_data[0])\n",
    "\n",
    "    if half_hour == 27:\n",
    "      incident_by_day[day] = incidents\n",
    "      day = day + 1\n",
    "      incidents = 0\n",
    "\n",
    "  except ValueError:\n",
    "    continue\n",
    "\n",
    "# -- results\n",
    "\n",
    "for day in incident_by_day:\n",
    "\n",
    "  print(f'{day}: {incident_by_day[day]}')"
   ],
   "execution_count": 22,
   "outputs": [
    {
     "name": "stdout",
     "output_type": "stream",
     "text": [
      "14: 16\n",
      "15: 63\n",
      "16: 94\n",
      "17: 82\n",
      "18: 85\n"
     ]
    }
   ]
  },
  {
   "cell_type": "markdown",
   "metadata": {
    "id": "waxn4B2UDHyl"
   },
   "source": [
    "---"
   ]
  },
  {
   "cell_type": "code",
   "execution_count": 33,
   "outputs": [
    {
     "name": "stdout",
     "output_type": "stream",
     "text": [
      "[ 0  1  2  3  4  5  6  7  8  9 10]\n",
      "3628800\n",
      "362880\n",
      "40320\n",
      "5040\n",
      "720\n",
      "120\n",
      "24\n",
      "6\n",
      "2\n",
      "1\n",
      "1\n"
     ]
    }
   ],
   "source": [
    "x = np.arange(0, 11)\n",
    "print(x)\n",
    "for n in range(len(x) -1, -1, -1):\n",
    "  print(np.math.factorial(n))"
   ],
   "metadata": {
    "collapsed": false
   }
  }
 ]
}
